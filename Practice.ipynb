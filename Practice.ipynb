{
 "cells": [
  {
   "cell_type": "code",
   "execution_count": 1,
   "id": "d5895f58-8548-4075-9530-a1192a3a0dd9",
   "metadata": {
    "collapsed": true,
    "jupyter": {
     "outputs_hidden": true
    },
    "scrolled": true,
    "tags": []
   },
   "outputs": [
    {
     "name": "stdout",
     "output_type": "stream",
     "text": [
      "Requirement already satisfied: streamlit in /Users/amarbayanaltangerel/Library/jupyterlab-desktop/jlab_server/lib/python3.12/site-packages (1.39.0)\n",
      "Requirement already satisfied: altair<6,>=4.0 in /Users/amarbayanaltangerel/Library/jupyterlab-desktop/jlab_server/lib/python3.12/site-packages (from streamlit) (5.4.1)\n",
      "Requirement already satisfied: blinker<2,>=1.0.0 in /Users/amarbayanaltangerel/Library/jupyterlab-desktop/jlab_server/lib/python3.12/site-packages (from streamlit) (1.8.2)\n",
      "Requirement already satisfied: cachetools<6,>=4.0 in /Users/amarbayanaltangerel/Library/jupyterlab-desktop/jlab_server/lib/python3.12/site-packages (from streamlit) (5.5.0)\n",
      "Requirement already satisfied: click<9,>=7.0 in /Users/amarbayanaltangerel/Library/jupyterlab-desktop/jlab_server/lib/python3.12/site-packages (from streamlit) (8.1.7)\n",
      "Requirement already satisfied: numpy<3,>=1.20 in /Users/amarbayanaltangerel/Library/jupyterlab-desktop/jlab_server/lib/python3.12/site-packages (from streamlit) (2.2.4)\n",
      "Requirement already satisfied: packaging<25,>=20 in /Users/amarbayanaltangerel/Library/jupyterlab-desktop/jlab_server/lib/python3.12/site-packages (from streamlit) (24.0)\n",
      "Requirement already satisfied: pandas<3,>=1.4.0 in /Users/amarbayanaltangerel/Library/jupyterlab-desktop/jlab_server/lib/python3.12/site-packages (from streamlit) (2.2.2)\n",
      "Requirement already satisfied: pillow<11,>=7.1.0 in /Users/amarbayanaltangerel/Library/jupyterlab-desktop/jlab_server/lib/python3.12/site-packages (from streamlit) (10.3.0)\n",
      "Requirement already satisfied: protobuf<6,>=3.20 in /Users/amarbayanaltangerel/Library/jupyterlab-desktop/jlab_server/lib/python3.12/site-packages (from streamlit) (5.28.2)\n",
      "Requirement already satisfied: pyarrow>=7.0 in /Users/amarbayanaltangerel/Library/jupyterlab-desktop/jlab_server/lib/python3.12/site-packages (from streamlit) (17.0.0)\n",
      "Requirement already satisfied: requests<3,>=2.27 in /Users/amarbayanaltangerel/Library/jupyterlab-desktop/jlab_server/lib/python3.12/site-packages (from streamlit) (2.32.2)\n",
      "Requirement already satisfied: rich<14,>=10.14.0 in /Users/amarbayanaltangerel/Library/jupyterlab-desktop/jlab_server/lib/python3.12/site-packages (from streamlit) (13.9.2)\n",
      "Requirement already satisfied: tenacity<10,>=8.1.0 in /Users/amarbayanaltangerel/Library/jupyterlab-desktop/jlab_server/lib/python3.12/site-packages (from streamlit) (9.0.0)\n",
      "Requirement already satisfied: toml<2,>=0.10.1 in /Users/amarbayanaltangerel/Library/jupyterlab-desktop/jlab_server/lib/python3.12/site-packages (from streamlit) (0.10.2)\n",
      "Requirement already satisfied: typing-extensions<5,>=4.3.0 in /Users/amarbayanaltangerel/Library/jupyterlab-desktop/jlab_server/lib/python3.12/site-packages (from streamlit) (4.14.1)\n",
      "Requirement already satisfied: gitpython!=3.1.19,<4,>=3.0.7 in /Users/amarbayanaltangerel/Library/jupyterlab-desktop/jlab_server/lib/python3.12/site-packages (from streamlit) (3.1.43)\n",
      "Requirement already satisfied: pydeck<1,>=0.8.0b4 in /Users/amarbayanaltangerel/Library/jupyterlab-desktop/jlab_server/lib/python3.12/site-packages (from streamlit) (0.9.1)\n",
      "Requirement already satisfied: tornado<7,>=6.0.3 in /Users/amarbayanaltangerel/Library/jupyterlab-desktop/jlab_server/lib/python3.12/site-packages (from streamlit) (6.4)\n",
      "Requirement already satisfied: jinja2 in /Users/amarbayanaltangerel/Library/jupyterlab-desktop/jlab_server/lib/python3.12/site-packages (from altair<6,>=4.0->streamlit) (3.1.4)\n",
      "Requirement already satisfied: jsonschema>=3.0 in /Users/amarbayanaltangerel/Library/jupyterlab-desktop/jlab_server/lib/python3.12/site-packages (from altair<6,>=4.0->streamlit) (4.22.0)\n",
      "Requirement already satisfied: narwhals>=1.5.2 in /Users/amarbayanaltangerel/Library/jupyterlab-desktop/jlab_server/lib/python3.12/site-packages (from altair<6,>=4.0->streamlit) (2.3.0)\n",
      "Requirement already satisfied: gitdb<5,>=4.0.1 in /Users/amarbayanaltangerel/Library/jupyterlab-desktop/jlab_server/lib/python3.12/site-packages (from gitpython!=3.1.19,<4,>=3.0.7->streamlit) (4.0.11)\n",
      "Requirement already satisfied: python-dateutil>=2.8.2 in /Users/amarbayanaltangerel/Library/jupyterlab-desktop/jlab_server/lib/python3.12/site-packages (from pandas<3,>=1.4.0->streamlit) (2.9.0)\n",
      "Requirement already satisfied: pytz>=2020.1 in /Users/amarbayanaltangerel/Library/jupyterlab-desktop/jlab_server/lib/python3.12/site-packages (from pandas<3,>=1.4.0->streamlit) (2024.1)\n",
      "Requirement already satisfied: tzdata>=2022.7 in /Users/amarbayanaltangerel/Library/jupyterlab-desktop/jlab_server/lib/python3.12/site-packages (from pandas<3,>=1.4.0->streamlit) (2024.1)\n",
      "Requirement already satisfied: charset-normalizer<4,>=2 in /Users/amarbayanaltangerel/Library/jupyterlab-desktop/jlab_server/lib/python3.12/site-packages (from requests<3,>=2.27->streamlit) (3.3.2)\n",
      "Requirement already satisfied: idna<4,>=2.5 in /Users/amarbayanaltangerel/Library/jupyterlab-desktop/jlab_server/lib/python3.12/site-packages (from requests<3,>=2.27->streamlit) (3.7)\n",
      "Requirement already satisfied: urllib3<3,>=1.21.1 in /Users/amarbayanaltangerel/Library/jupyterlab-desktop/jlab_server/lib/python3.12/site-packages (from requests<3,>=2.27->streamlit) (2.5.0)\n",
      "Requirement already satisfied: certifi>=2017.4.17 in /Users/amarbayanaltangerel/Library/jupyterlab-desktop/jlab_server/lib/python3.12/site-packages (from requests<3,>=2.27->streamlit) (2025.8.3)\n",
      "Requirement already satisfied: markdown-it-py>=2.2.0 in /Users/amarbayanaltangerel/Library/jupyterlab-desktop/jlab_server/lib/python3.12/site-packages (from rich<14,>=10.14.0->streamlit) (3.0.0)\n",
      "Requirement already satisfied: pygments<3.0.0,>=2.13.0 in /Users/amarbayanaltangerel/Library/jupyterlab-desktop/jlab_server/lib/python3.12/site-packages (from rich<14,>=10.14.0->streamlit) (2.18.0)\n",
      "Requirement already satisfied: smmap<6,>=3.0.1 in /Users/amarbayanaltangerel/Library/jupyterlab-desktop/jlab_server/lib/python3.12/site-packages (from gitdb<5,>=4.0.1->gitpython!=3.1.19,<4,>=3.0.7->streamlit) (5.0.1)\n",
      "Requirement already satisfied: MarkupSafe>=2.0 in /Users/amarbayanaltangerel/Library/jupyterlab-desktop/jlab_server/lib/python3.12/site-packages (from jinja2->altair<6,>=4.0->streamlit) (2.1.5)\n",
      "Requirement already satisfied: attrs>=22.2.0 in /Users/amarbayanaltangerel/Library/jupyterlab-desktop/jlab_server/lib/python3.12/site-packages (from jsonschema>=3.0->altair<6,>=4.0->streamlit) (23.2.0)\n",
      "Requirement already satisfied: jsonschema-specifications>=2023.03.6 in /Users/amarbayanaltangerel/Library/jupyterlab-desktop/jlab_server/lib/python3.12/site-packages (from jsonschema>=3.0->altair<6,>=4.0->streamlit) (2023.12.1)\n",
      "Requirement already satisfied: referencing>=0.28.4 in /Users/amarbayanaltangerel/Library/jupyterlab-desktop/jlab_server/lib/python3.12/site-packages (from jsonschema>=3.0->altair<6,>=4.0->streamlit) (0.35.1)\n",
      "Requirement already satisfied: rpds-py>=0.7.1 in /Users/amarbayanaltangerel/Library/jupyterlab-desktop/jlab_server/lib/python3.12/site-packages (from jsonschema>=3.0->altair<6,>=4.0->streamlit) (0.18.1)\n",
      "Requirement already satisfied: mdurl~=0.1 in /Users/amarbayanaltangerel/Library/jupyterlab-desktop/jlab_server/lib/python3.12/site-packages (from markdown-it-py>=2.2.0->rich<14,>=10.14.0->streamlit) (0.1.2)\n",
      "Requirement already satisfied: six>=1.5 in /Users/amarbayanaltangerel/Library/jupyterlab-desktop/jlab_server/lib/python3.12/site-packages (from python-dateutil>=2.8.2->pandas<3,>=1.4.0->streamlit) (1.16.0)\n"
     ]
    }
   ],
   "source": [
    "!pip install streamlit"
   ]
  },
  {
   "cell_type": "code",
   "execution_count": 3,
   "id": "7eefd530-f0d5-4d5d-bb8c-9dbeae5c4bf8",
   "metadata": {
    "collapsed": true,
    "jupyter": {
     "outputs_hidden": true
    }
   },
   "outputs": [
    {
     "name": "stdout",
     "output_type": "stream",
     "text": [
      "\u001b[0m\n",
      "\u001b[34m\u001b[1m  You can now view your Streamlit app in your browser.\u001b[0m\n",
      "\u001b[0m\n",
      "\u001b[34m  Local URL: \u001b[0m\u001b[1mhttp://localhost:8501\u001b[0m\n",
      "\u001b[34m  Network URL: \u001b[0m\u001b[1mhttp://192.168.2.253:8501\u001b[0m\n",
      "\u001b[0m\n",
      "\u001b[34m\u001b[1m  For better performance, install the Watchdog module:\u001b[0m\n",
      "\n",
      "  $ xcode-select --install\n",
      "  $ pip install watchdog\n",
      "            \u001b[0m\n",
      "2025-10-22 12:07:05.660 Uncaught app exception\n",
      "Traceback (most recent call last):\n",
      "  File \"/Users/amarbayanaltangerel/Library/jupyterlab-desktop/jlab_server/lib/python3.12/site-packages/streamlit/runtime/scriptrunner/exec_code.py\", line 88, in exec_func_with_error_handling\n",
      "    result = func()\n",
      "             ^^^^^^\n",
      "  File \"/Users/amarbayanaltangerel/Library/jupyterlab-desktop/jlab_server/lib/python3.12/site-packages/streamlit/runtime/scriptrunner/script_runner.py\", line 579, in code_to_exec\n",
      "    exec(code, module.__dict__)\n",
      "  File \"/Users/amarbayanaltangerel/Downloads/week07 9/iris_dash.py\", line 3, in <module>\n",
      "    model = load('data/iris_model.joblib')\n",
      "            ^^^^^^^^^^^^^^^^^^^^^^^^^^^^^^\n",
      "  File \"/Users/amarbayanaltangerel/Library/jupyterlab-desktop/jlab_server/lib/python3.12/site-packages/joblib/numpy_pickle.py\", line 658, in load\n",
      "    obj = _unpickle(fobj, filename, mmap_mode)\n",
      "          ^^^^^^^^^^^^^^^^^^^^^^^^^^^^^^^^^^^^\n",
      "  File \"/Users/amarbayanaltangerel/Library/jupyterlab-desktop/jlab_server/lib/python3.12/site-packages/joblib/numpy_pickle.py\", line 577, in _unpickle\n",
      "    obj = unpickler.load()\n",
      "          ^^^^^^^^^^^^^^^^\n",
      "  File \"/Users/amarbayanaltangerel/Library/jupyterlab-desktop/jlab_server/lib/python3.12/pickle.py\", line 1205, in load\n",
      "    dispatch[key[0]](self)\n",
      "  File \"/Users/amarbayanaltangerel/Library/jupyterlab-desktop/jlab_server/lib/python3.12/pickle.py\", line 1521, in load_global\n",
      "    klass = self.find_class(module, name)\n",
      "            ^^^^^^^^^^^^^^^^^^^^^^^^^^^^^\n",
      "  File \"/Users/amarbayanaltangerel/Library/jupyterlab-desktop/jlab_server/lib/python3.12/pickle.py\", line 1572, in find_class\n",
      "    __import__(module, level=0)\n",
      "  File \"/Users/amarbayanaltangerel/Library/jupyterlab-desktop/jlab_server/lib/python3.12/site-packages/sklearn/__init__.py\", line 73, in <module>\n",
      "    from .base import clone  # noqa: E402\n",
      "    ^^^^^^^^^^^^^^^^^^^^^^^\n",
      "  File \"/Users/amarbayanaltangerel/Library/jupyterlab-desktop/jlab_server/lib/python3.12/site-packages/sklearn/base.py\", line 19, in <module>\n",
      "    from .utils._metadata_requests import _MetadataRequester, _routing_enabled\n",
      "  File \"/Users/amarbayanaltangerel/Library/jupyterlab-desktop/jlab_server/lib/python3.12/site-packages/sklearn/utils/__init__.py\", line 9, in <module>\n",
      "    from ._chunking import gen_batches, gen_even_slices\n",
      "  File \"/Users/amarbayanaltangerel/Library/jupyterlab-desktop/jlab_server/lib/python3.12/site-packages/sklearn/utils/_chunking.py\", line 11, in <module>\n",
      "    from ._param_validation import Interval, validate_params\n",
      "  File \"/Users/amarbayanaltangerel/Library/jupyterlab-desktop/jlab_server/lib/python3.12/site-packages/sklearn/utils/_param_validation.py\", line 14, in <module>\n",
      "    from scipy.sparse import csr_matrix, issparse\n",
      "  File \"/Users/amarbayanaltangerel/Library/jupyterlab-desktop/jlab_server/lib/python3.12/site-packages/scipy/sparse/__init__.py\", line 308, in <module>\n",
      "    from . import csgraph\n",
      "  File \"/Users/amarbayanaltangerel/Library/jupyterlab-desktop/jlab_server/lib/python3.12/site-packages/scipy/sparse/csgraph/__init__.py\", line 185, in <module>\n",
      "    from ._laplacian import laplacian\n",
      "  File \"/Users/amarbayanaltangerel/Library/jupyterlab-desktop/jlab_server/lib/python3.12/site-packages/scipy/sparse/csgraph/_laplacian.py\", line 7, in <module>\n",
      "    from scipy.sparse.linalg import LinearOperator\n",
      "  File \"/Users/amarbayanaltangerel/Library/jupyterlab-desktop/jlab_server/lib/python3.12/site-packages/scipy/sparse/linalg/__init__.py\", line 129, in <module>\n",
      "    from ._isolve import *\n",
      "  File \"/Users/amarbayanaltangerel/Library/jupyterlab-desktop/jlab_server/lib/python3.12/site-packages/scipy/sparse/linalg/_isolve/__init__.py\", line 4, in <module>\n",
      "    from .iterative import *\n",
      "  File \"/Users/amarbayanaltangerel/Library/jupyterlab-desktop/jlab_server/lib/python3.12/site-packages/scipy/sparse/linalg/_isolve/iterative.py\", line 5, in <module>\n",
      "    from scipy.linalg import get_lapack_funcs\n",
      "  File \"/Users/amarbayanaltangerel/Library/jupyterlab-desktop/jlab_server/lib/python3.12/site-packages/scipy/linalg/__init__.py\", line 203, in <module>\n",
      "    from ._misc import *\n",
      "  File \"/Users/amarbayanaltangerel/Library/jupyterlab-desktop/jlab_server/lib/python3.12/site-packages/scipy/linalg/_misc.py\", line 3, in <module>\n",
      "    from .blas import get_blas_funcs\n",
      "  File \"/Users/amarbayanaltangerel/Library/jupyterlab-desktop/jlab_server/lib/python3.12/site-packages/scipy/linalg/blas.py\", line 213, in <module>\n",
      "    from scipy.linalg import _fblas\n",
      "ImportError: dlopen(/Users/amarbayanaltangerel/Library/jupyterlab-desktop/jlab_server/lib/python3.12/site-packages/scipy/linalg/_fblas.cpython-312-darwin.so, 0x0002): Library not loaded: @rpath/libgfortran.5.dylib\n",
      "  Referenced from: <0BF6A426-9C50-3B1B-AD10-346F538CD16E> /Users/amarbayanaltangerel/Library/jupyterlab-desktop/jlab_server/lib/libopenblas.0.dylib\n",
      "  Reason: tried: '/Users/amarbayanaltangerel/Library/jupyterlab-desktop/jlab_server/lib/libgfortran.5.dylib' (duplicate LC_RPATH '@loader_path'), '/Users/amarbayanaltangerel/Library/jupyterlab-desktop/jlab_server/lib/libgfortran.5.dylib' (duplicate LC_RPATH '@loader_path'), '/Users/amarbayanaltangerel/Library/jupyterlab-desktop/jlab_server/lib/python3.12/site-packages/scipy/linalg/../../../../libgfortran.5.dylib' (duplicate LC_RPATH '@loader_path'), '/Users/amarbayanaltangerel/Library/jupyterlab-desktop/jlab_server/lib/python3.12/site-packages/scipy/linalg/../../../../libgfortran.5.dylib' (duplicate LC_RPATH '@loader_path'), '/Users/amarbayanaltangerel/Library/jupyterlab-desktop/jlab_server/bin/../lib/libgfortran.5.dylib' (duplicate LC_RPATH '@loader_path'), '/Users/amarbayanaltangerel/Library/jupyterlab-desktop/jlab_server/bin/../lib/libgfortran.5.dylib' (duplicate LC_RPATH '@loader_path'), '/usr/local/lib/libgfortran.5.dylib' (no such file), '/usr/lib/libgfortran.5.dylib' (no such file, not in dyld cache)\n",
      "^C\n",
      "\u001b[34m  Stopping...\u001b[0m\n"
     ]
    }
   ],
   "source": [
    "!streamlit run iris_dash.py"
   ]
  },
  {
   "cell_type": "code",
   "execution_count": 2,
   "id": "8647ac92-7cc1-4bf5-9f76-25f5e973a419",
   "metadata": {},
   "outputs": [
    {
     "name": "stdout",
     "output_type": "stream",
     "text": [
      "Requirement already satisfied: joblib in /Users/amarbayanaltangerel/Library/jupyterlab-desktop/jlab_server/lib/python3.12/site-packages (1.4.2)\n"
     ]
    }
   ],
   "source": [
    "!pip install joblib"
   ]
  },
  {
   "cell_type": "markdown",
   "id": "aeb2d24a-d3dd-4a3f-bb2c-efea0870fc19",
   "metadata": {
    "tags": []
   },
   "source": [
    "### Exercise: Create a web app to predict `Iris` flower\n",
    "* Create input fields where a user can enter flower attributes.\n",
    "  * Inputs are in *centimeters*: `sepal length`, `sepal width`, `petal length`, and `petal width`, \n",
    "  * Inputs can not be greater than 15 or negative number.\n",
    "* Create a button to get the inputs and predict\n",
    "* Use the inputs to predict a flower type.\n",
    "  The model was exported with the `joblib` library, and you can use the following code to load the model:\n",
    "\n",
    "  ``` python\n",
    "  # import the load method from joblib\n",
    "  from joblib import load\n",
    "\n",
    "  model = load('data/iris_model.joblib')\n",
    "\n",
    "  # Inference code. \n",
    "  # The input array is in double brackets because it is 1 dimensional\n",
    "  prediction = model.predict([[1,2,3,4]])\n",
    "  ```\n",
    "\n",
    "  The prediction will be an array with an integer value, which is the predicted class. They are as follows:\n",
    "  - 0: Iris Setosa\n",
    "  - 1: Iris Versicolour\n",
    "  - 2: Iris Virginica\n",
    "  \n",
    "  For your own reference here are the four input variables and their common ranges. These are listed by position of their input. \n",
    "  - 0: sepal length in cm\n",
    "  - 1: sepal width in cm\n",
    "  - 2: petal length in cm\n",
    "  - 3: petal width in cm\n",
    "\n",
    "* Output a predicted flower type as an image. Use the images from `images` folder.\n",
    "\n",
    "![setosa](images/iris_setosa.png)\n",
    "![setosa](images/iris_versicolor.png)\n",
    "![setosa](images/iris_virginica.png)\n",
    "\n",
    "#### Streamlit documentation: https://docs.streamlit.io/library/api-reference\n",
    "\n"
   ]
  },
  {
   "cell_type": "markdown",
   "id": "76bf1c3e-a103-411a-8ecd-f85426dba5b4",
   "metadata": {},
   "source": [
    "### Exercise\n",
    "* Make 2 columns using `st.columns`\n",
    "  * Put sepal inputs in the first column\n",
    "  * Put petal inputs in the second column\n",
    "* Display *predict* button and *output image* in the center using `st.columns`"
   ]
  },
  {
   "cell_type": "code",
   "execution_count": null,
   "id": "e34b95e0-6029-4faa-8d08-21009341eb8a",
   "metadata": {},
   "outputs": [],
   "source": [
    "!streamlit run iris_dash.py"
   ]
  },
  {
   "cell_type": "code",
   "execution_count": null,
   "id": "a343365d-331c-4dea-ba16-a2aa8a568fa5",
   "metadata": {},
   "outputs": [],
   "source": []
  }
 ],
 "metadata": {
  "kernelspec": {
   "display_name": "Python 3 (ipykernel)",
   "language": "python",
   "name": "python3"
  },
  "language_info": {
   "codemirror_mode": {
    "name": "ipython",
    "version": 3
   },
   "file_extension": ".py",
   "mimetype": "text/x-python",
   "name": "python",
   "nbconvert_exporter": "python",
   "pygments_lexer": "ipython3",
   "version": "3.12.3"
  }
 },
 "nbformat": 4,
 "nbformat_minor": 5
}
